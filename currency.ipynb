{
 "cells": [
  {
   "cell_type": "code",
   "execution_count": 1,
   "id": "fb5333e5-fd23-4272-95b7-36ca24c11037",
   "metadata": {},
   "outputs": [],
   "source": [
    "import requests"
   ]
  },
  {
   "cell_type": "code",
   "execution_count": 2,
   "id": "0e7c863a-20ef-4cb8-b88c-3f0e0663f514",
   "metadata": {},
   "outputs": [],
   "source": [
    "API_key='e408c94e237fbc0742d22be8'\n",
    "API_URL=f'https://v6.exchangerate-api.com/v6/e408c94e237fbc0742d22be8/latest/' "
   ]
  },
  {
   "cell_type": "code",
   "execution_count": 3,
   "id": "04bd458c-0c15-4684-adde-adda2cc00bb2",
   "metadata": {},
   "outputs": [],
   "source": [
    "def exchange_rates(base_currency):\n",
    "  response = requests.get(API_URL + base_currency)\n",
    "  if response.status_code != 200:\n",
    "     raise Exception(\"Error fetching exchange rates\")\n",
    "  data = response.json()\n",
    "  return data['conversion_rates']"
   ]
  },
  {
   "cell_type": "code",
   "execution_count": 4,
   "id": "768b7c41-8c9f-47f6-aaa0-ab362e253157",
   "metadata": {},
   "outputs": [],
   "source": [
    "def currency_convert(amount, original_curr, converted_curr, rates):\n",
    "    if original_curr not in rates or converted_curr not in rates:\n",
    "        raise ValueError(\"Unsupported format Value\")\n",
    "    from_rate = rates[original_curr]\n",
    "    to_rate = rates[converted_curr]\n",
    "    converted_amount = (amount / from_rate) * to_rate\n",
    "    return converted_amount"
   ]
  },
  {
   "cell_type": "code",
   "execution_count": 5,
   "id": "c98b49c3-d32c-4c27-925c-6449801b5f2a",
   "metadata": {},
   "outputs": [],
   "source": [
    "def main():\n",
    "    print(\"Welcome!\")\n",
    "    base_currency = input(\"Enter the base currency (USD, EUR, GBP): \").upper()\n",
    "    try:\n",
    "        rates = exchange_rates(base_currency)\n",
    "    except Exception as e:\n",
    "        print(e)\n",
    "        return\n",
    "    \n",
    "    while True:\n",
    "        try:\n",
    "            amount = float(input(\"Enter the amount for conversion: \"))\n",
    "            original_curr = input(\"Give the  initial currency to convert from (USD, EUR, GBP): \").upper()\n",
    "            converted_curr = input(\"Give the expected currency to convert to (USD, EUR, GBP): \").upper()\n",
    "            \n",
    "            converted_amount = currency_convert(amount,original_curr, converted_curr, rates)\n",
    "            print(f\"{amount} {original_curr} is equal to {converted_amount:.2f} {converted_curr}\")\n",
    "        \n",
    "        except ValueError as e:\n",
    "            print(f\"Error: {e}\")\n",
    "        except Exception as e:\n",
    "            print(f\"An error occurred: {e}\")\n",
    "        \n",
    "        choice = input(\"Make another currency conversion ? (Answer in yes/no...): \").lower()\n",
    "        if choice != 'yes':\n",
    "            break"
   ]
  },
  {
   "cell_type": "code",
   "execution_count": 6,
   "id": "31c26060-022b-4b1e-a574-f6d826a93e2c",
   "metadata": {},
   "outputs": [
    {
     "name": "stdout",
     "output_type": "stream",
     "text": [
      "Welcome!\n"
     ]
    },
    {
     "name": "stdin",
     "output_type": "stream",
     "text": [
      "Enter the base currency (USD, EUR, GBP):  USD\n",
      "Enter the amount for conversion:  300\n",
      "Give the  initial currency to convert from (USD, EUR, GBP):  INR\n",
      "Give the expected currency to convert to (USD, EUR, GBP):  EUR\n"
     ]
    },
    {
     "name": "stdout",
     "output_type": "stream",
     "text": [
      "300.0 INR is equal to 3.35 EUR\n"
     ]
    },
    {
     "name": "stdin",
     "output_type": "stream",
     "text": [
      "Make another currency conversion ? (Answer in yes/no...):  no\n"
     ]
    }
   ],
   "source": [
    "if __name__==\"__main__\":\n",
    "    main()"
   ]
  }
 ],
 "metadata": {
  "kernelspec": {
   "display_name": "Python 3 (ipykernel)",
   "language": "python",
   "name": "python3"
  },
  "language_info": {
   "codemirror_mode": {
    "name": "ipython",
    "version": 3
   },
   "file_extension": ".py",
   "mimetype": "text/x-python",
   "name": "python",
   "nbconvert_exporter": "python",
   "pygments_lexer": "ipython3",
   "version": "3.10.7"
  }
 },
 "nbformat": 4,
 "nbformat_minor": 5
}
