{
 "cells": [
  {
   "cell_type": "code",
   "execution_count": 1,
   "id": "1d2231df-3b52-4995-948e-8fb616abc01f",
   "metadata": {},
   "outputs": [],
   "source": [
    "import smtplib\n",
    "from email.mime.multipart import MIMEMultipart\n",
    "from email.mime.text import MIMEText\n",
    "import schedule\n",
    "import time"
   ]
  },
  {
   "cell_type": "code",
   "execution_count": 2,
   "id": "508abaf7-dfb4-4ca0-b88e-9462bee63463",
   "metadata": {},
   "outputs": [],
   "source": [
    "SMTP_SERVER = 'smtp.gmail.com' \n",
    "SMTP_PORT = 587\n",
    "EMAIL_ADDRESS = 'venkateshwarraokattekola@gmail.com'\n",
    "EMAIL_PASSWORD = 'owke eolr gzfi ycxq'"
   ]
  },
  {
   "cell_type": "code",
   "execution_count": 3,
   "id": "65d536de-40f3-4e5b-8183-bab7af2b8d1e",
   "metadata": {},
   "outputs": [],
   "source": [
    "def send_email(subject, body, to_addrs):\n",
    "    msg = MIMEMultipart()\n",
    "    msg['From'] = EMAIL_ADDRESS\n",
    "    msg['To'] = ', '.join(to_addrs)\n",
    "    msg['Subject'] = subject\n",
    "\n",
    "    msg.attach(MIMEText(body, 'plain'))\n",
    "\n",
    "    try:\n",
    "        server = smtplib.SMTP(SMTP_SERVER, SMTP_PORT)\n",
    "        server.starttls()\n",
    "        server.login(EMAIL_ADDRESS, EMAIL_PASSWORD)\n",
    "        server.send_message(msg)\n",
    "        server.quit()\n",
    "        print(f\"Email sent to {', '.join(to_addrs)}\")\n",
    "    except smtplib.SMTPConnectError as e:\n",
    "        print(f\"Failed to connect to the server: {e}\")\n",
    "    except smtplib.SMTPAuthenticationError as e:\n",
    "        print(f\"Failed to authenticate: {e}\")\n",
    "    except smtplib.SMTPException as e:\n",
    "        print(f\"SMTP error occurred: {e}\")\n",
    "    except Exception as e:\n",
    "        print(f\"An error occurred: {e}\")"
   ]
  },
  {
   "cell_type": "code",
   "execution_count": 4,
   "id": "8122ecea-910c-438e-b818-50f762d9b0ee",
   "metadata": {},
   "outputs": [],
   "source": [
    "def schedule_email(subject, body, to_addrs, send_time):\n",
    "    def job():\n",
    "        send_email(subject, body, to_addrs)\n",
    "\n",
    "    schedule.every().day.at(send_time).do(job)\n",
    "    print(f\"Email scheduled to {', '.join(to_addrs)} at {send_time}\")\n"
   ]
  },
  {
   "cell_type": "code",
   "execution_count": null,
   "id": "34466899-6a67-49cb-8c82-f1c9eecb404c",
   "metadata": {
    "scrolled": true
   },
   "outputs": [
    {
     "name": "stdin",
     "output_type": "stream",
     "text": [
      "Enter the subject of the email:  v\n",
      "Enter the body of the email:  v\n",
      "Enter recipient email addresses separated by commas:  venkateshwarraokattekola@gmail.com,venkatkattekola@gmail.com\n",
      "Enter the time to send the email (HH:MM in 24-hour format):  22:10\n"
     ]
    },
    {
     "name": "stdout",
     "output_type": "stream",
     "text": [
      "Email scheduled to venkateshwarraokattekola@gmail.com, venkatkattekola@gmail.com at 22:10\n",
      "Email sent to venkateshwarraokattekola@gmail.com, venkatkattekola@gmail.com\n"
     ]
    }
   ],
   "source": [
    "if __name__ == \"__main__\":\n",
    "    # Input email details\n",
    "    subject = input(\"Enter the subject of the email: \")\n",
    "    body = input(\"Enter the body of the email: \")\n",
    "    to_addrs = input(\"Enter recipient email addresses separated by commas: \").split(',')\n",
    "    send_time = input(\"Enter the time to send the email (HH:MM in 24-hour format): \")\n",
    "\n",
    "    schedule_email(subject, body, to_addrs, send_time)\n",
    "\n",
    "    while True:\n",
    "        schedule.run_pending()\n",
    "        time.sleep(1)"
   ]
  }
 ],
 "metadata": {
  "kernelspec": {
   "display_name": "Python 3 (ipykernel)",
   "language": "python",
   "name": "python3"
  },
  "language_info": {
   "codemirror_mode": {
    "name": "ipython",
    "version": 3
   },
   "file_extension": ".py",
   "mimetype": "text/x-python",
   "name": "python",
   "nbconvert_exporter": "python",
   "pygments_lexer": "ipython3",
   "version": "3.10.7"
  }
 },
 "nbformat": 4,
 "nbformat_minor": 5
}
